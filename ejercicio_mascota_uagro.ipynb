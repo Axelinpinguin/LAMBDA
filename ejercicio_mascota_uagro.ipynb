{
  "cells": [
    {
      "cell_type": "markdown",
      "metadata": {
        "id": "PXgSZYI32Ujt"
      },
      "source": [
        "# Elección de la Mascota UAGro 🦅🐆\n",
        "\n",
        "Eres el representante estudiantil de la Universidad Autónoma de Guerrero (UAGro) y has organizado una votación para elegir la nueva mascota oficial de la universidad.\n",
        "\n",
        "Las opciones fueron:\n",
        "\n",
        "Águila Dorada (Código: AD)\n",
        "Jaguar Guerrero (Código: JG)\n",
        "\n",
        "A continuación, se presentan los votos registrados:"
      ]
    },
    {
      "cell_type": "code",
      "execution_count": 47,
      "metadata": {},
      "outputs": [],
      "source": [
        "votos = ['AD', 'JG', 'JG', 'AD', 'AD', 'JG', 'JG', 'AD', 'JG', 'JG', 'AD', 'AD', 'JG', 'JG', 'JG', 'AD', 'JG', 'AD', 'JG', 'JG',\n",
        "         'JG', 'AD', 'JG', 'JG', 'JG', 'AD', 'JG', 'JG', 'AD', 'JG', 'AD', 'JG', 'JG', 'JG', 'AD', 'AD', 'JG', 'AD', 'JG',\n",
        "         'JG', 'AD', 'JG', 'AD', 'AD', 'AD', 'JG', 'AD', 'JG', 'JG', 'JG', 'JG', 'JG', 'JG', 'JG', 'AD', 'JG', 'JG', 'JG',\n",
        "         'JG', 'JG', 'JG', 'JG', 'JG', 'JG', 'JG', 'AD', 'JG', 'AD', 'JG', 'JG', 'JG', 'JG', 'JG', 'AD', 'AD', 'JG', 'JG',\n",
        "         'JG', 'AD', 'JG', 'JG', 'JG', 'AD', 'JG', 'JG', 'AD', 'AD', 'AD', 'JG', 'JG', 'JG', 'JG', 'AD', 'AD', 'JG', 'JG',\n",
        "         'AD', 'JG', 'JG', 'JG', 'AD', 'AD', 'JG', 'JG', 'JG', 'AD', 'JG', 'JG', 'JG', 'JG', 'AD', 'JG', 'JG', 'JG', 'AD',\n",
        "         'JG', 'JG', 'JG', 'AD', 'JG', 'AD', 'JG', 'JG', 'AD', 'AD', 'JG', 'JG', 'JG', 'JG', 'JG', 'JG', 'JG', 'JG', 'JG',\n",
        "         'JG', 'JG', 'JG', 'JG', 'AD', 'JG', 'JG', 'JG', 'JG', 'JG', 'JG', 'JG', 'AD', 'AD', 'JG', 'JG', 'JG', 'JG', 'JG',\n",
        "         'JG', 'AD', 'JG', 'AD', 'JG', 'JG', 'JG', 'JG', 'JG', 'JG', 'JG', 'JG', 'JG', 'AD', 'JG', 'AD', 'JG', 'JG', 'JG']"
      ]
    },
    {
      "cell_type": "markdown",
      "metadata": {},
      "source": [
        "* Crea una función llamada voto_por_ad que regrese True si el voto fue \"AD\".\n",
        "* Usa esa función para filtrar los votos y asigna el resultado a una variable llamada votos_por_ad.\n",
        "* Usa una función lambda y el operador not para filtrar la lista de votos y obtener una nueva lista llamada votos_por_jg."
      ]
    },
    {
      "cell_type": "code",
      "execution_count": 48,
      "metadata": {
        "id": "jbFXJ__g2NvS"
      },
      "outputs": [],
      "source": [
        "def voto_por_ad(voto):\n",
        "    return voto=='AD'"
      ]
    },
    {
      "cell_type": "code",
      "execution_count": 53,
      "metadata": {
        "id": "6yPscAkS2nlW"
      },
      "outputs": [
        {
          "name": "stdout",
          "output_type": "stream",
          "text": [
            "['AD', 'AD', 'AD', 'AD', 'AD', 'AD', 'AD', 'AD', 'AD', 'AD', 'AD', 'AD', 'AD', 'AD', 'AD', 'AD', 'AD', 'AD', 'AD', 'AD', 'AD', 'AD', 'AD', 'AD', 'AD', 'AD', 'AD', 'AD', 'AD', 'AD', 'AD', 'AD', 'AD', 'AD', 'AD', 'AD', 'AD', 'AD', 'AD', 'AD', 'AD', 'AD', 'AD', 'AD', 'AD', 'AD', 'AD', 'AD', 'AD']\n"
          ]
        }
      ],
      "source": [
        "# Filtrar los votos por Águila Dorada\n",
        "votos_por_ad =[]\n",
        "for voto in votos:\n",
        "    if voto_por_ad(voto):\n",
        "        votos_por_ad.append(voto)\n",
        "print(votos_por_ad)"
      ]
    },
    {
      "cell_type": "code",
      "execution_count": 57,
      "metadata": {
        "id": "wMnt9yA92qAC"
      },
      "outputs": [
        {
          "name": "stdout",
          "output_type": "stream",
          "text": [
            "['JG', 'JG', 'JG', 'JG', 'JG', 'JG', 'JG', 'JG', 'JG', 'JG', 'JG', 'JG', 'JG', 'JG', 'JG', 'JG', 'JG', 'JG', 'JG', 'JG', 'JG', 'JG', 'JG', 'JG', 'JG', 'JG', 'JG', 'JG', 'JG', 'JG', 'JG', 'JG', 'JG', 'JG', 'JG', 'JG', 'JG', 'JG', 'JG', 'JG', 'JG', 'JG', 'JG', 'JG', 'JG', 'JG', 'JG', 'JG', 'JG', 'JG', 'JG', 'JG', 'JG', 'JG', 'JG', 'JG', 'JG', 'JG', 'JG', 'JG', 'JG', 'JG', 'JG', 'JG', 'JG', 'JG', 'JG', 'JG', 'JG', 'JG', 'JG', 'JG', 'JG', 'JG', 'JG', 'JG', 'JG', 'JG', 'JG', 'JG', 'JG', 'JG', 'JG', 'JG', 'JG', 'JG', 'JG', 'JG', 'JG', 'JG', 'JG', 'JG', 'JG', 'JG', 'JG', 'JG', 'JG', 'JG', 'JG', 'JG', 'JG', 'JG', 'JG', 'JG', 'JG', 'JG', 'JG', 'JG', 'JG', 'JG', 'JG', 'JG', 'JG', 'JG', 'JG', 'JG', 'JG', 'JG', 'JG', 'JG', 'JG', 'JG', 'JG']\n"
          ]
        }
      ],
      "source": [
        "# Filtrar los votos por Jaguar Guerrero usando lambda y not\n",
        "votos_por_jg = []\n",
        "voto_jg = lambda voto: not (voto == \"AD\")\n",
        "for voto in votos:\n",
        "    if voto_jg(voto):\n",
        "        votos_por_jg.append(voto)\n",
        "print(votos_por_jg)"
      ]
    },
    {
      "cell_type": "code",
      "execution_count": 62,
      "metadata": {
        "id": "0lt24c0x4Ywk"
      },
      "outputs": [
        {
          "name": "stdout",
          "output_type": "stream",
          "text": [
            "== Resultados de la votación para la Mascota Oficial de la UAGro ==\n",
            "\n",
            "Mascota                     Conteo\n",
            "---------------------------------------\n",
            "- Águila Dorada           | 49\n",
            "- Jaguar Guerrero         | 123\n",
            "---------------------------------------\n",
            "- Total Votos             | 172\n"
          ]
        }
      ],
      "source": [
        "# Imprimir los resultados\n",
        "print(f'== Resultados de la votación para la Mascota Oficial de la UAGro ==\\n')\n",
        "print(f'{(\"Mascota\"):25}   Conteo')\n",
        "print(f'---------------------------------------')\n",
        "print(f'{(\"- Águila Dorada\"):25} | {len(votos_por_ad)}')\n",
        "print(f'{(\"- Jaguar Guerrero\"):25} | {len(votos_por_jg)}')\n",
        "print(f'---------------------------------------')\n",
        "print(f'{(\"- Total Votos\"):25} | {len(votos_por_ad) + len(votos_por_jg)}')"
      ]
    }
  ],
  "metadata": {
    "colab": {
      "provenance": []
    },
    "kernelspec": {
      "display_name": "Python 3",
      "name": "python3"
    },
    "language_info": {
      "codemirror_mode": {
        "name": "ipython",
        "version": 3
      },
      "file_extension": ".py",
      "mimetype": "text/x-python",
      "name": "python",
      "nbconvert_exporter": "python",
      "pygments_lexer": "ipython3",
      "version": "3.9.13"
    }
  },
  "nbformat": 4,
  "nbformat_minor": 0
}
